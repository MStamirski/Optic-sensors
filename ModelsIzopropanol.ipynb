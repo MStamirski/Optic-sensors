{
  "nbformat": 4,
  "nbformat_minor": 0,
  "metadata": {
    "colab": {
      "provenance": [],
      "toc_visible": true,
      "authorship_tag": "ABX9TyMj0AUtusrRZyTFUtMlnJbn",
      "include_colab_link": true
    },
    "kernelspec": {
      "name": "python3",
      "display_name": "Python 3"
    },
    "language_info": {
      "name": "python"
    }
  },
  "cells": [
    {
      "cell_type": "markdown",
      "metadata": {
        "id": "view-in-github",
        "colab_type": "text"
      },
      "source": [
        "<a href=\"https://colab.research.google.com/github/MStamirski/Optic-sensors/blob/main/ModelsIzopropanol.ipynb\" target=\"_parent\"><img src=\"https://colab.research.google.com/assets/colab-badge.svg\" alt=\"Open In Colab\"/></a>"
      ]
    },
    {
      "cell_type": "markdown",
      "source": [
        "# Data and functions for training and testing models"
      ],
      "metadata": {
        "id": "BCWpTkSXFcsM"
      }
    },
    {
      "cell_type": "code",
      "execution_count": 1,
      "metadata": {
        "colab": {
          "base_uri": "https://localhost:8080/"
        },
        "id": "4tVigJOfb0Vi",
        "outputId": "84ef43ae-268d-4649-aefa-b0ff17152c3e"
      },
      "outputs": [
        {
          "output_type": "stream",
          "name": "stdout",
          "text": [
            "Mounted at /content/drive\n"
          ]
        }
      ],
      "source": [
        "from google.colab import drive\n",
        "drive.mount(\"/content/drive\")\n",
        "path = \"drive/MyDrive/Colab_Notebooks/SDA_Upskill/\""
      ]
    },
    {
      "cell_type": "code",
      "source": [
        "import pandas as pd\n",
        "import numpy as np\n",
        "import matplotlib.pyplot as plt"
      ],
      "metadata": {
        "id": "lhuAfBxAlibx"
      },
      "execution_count": 2,
      "outputs": []
    },
    {
      "cell_type": "code",
      "source": [
        "from sklearn.neural_network import MLPRegressor\n",
        "from sklearn.model_selection import train_test_split\n",
        "from sklearn.preprocessing import MinMaxScaler\n",
        "from sklearn.metrics import mean_absolute_percentage_error\n",
        "from sklearn.metrics import mean_absolute_error"
      ],
      "metadata": {
        "id": "iTbEKB3SfyCd"
      },
      "execution_count": 3,
      "outputs": []
    },
    {
      "cell_type": "code",
      "source": [
        "df_izopropanol = pd.read_csv(path+\"izopropanol.csv\", sep=\"\\t\").iloc[:, 1:] # without index\n",
        "df_izopropanol"
      ],
      "metadata": {
        "colab": {
          "base_uri": "https://localhost:8080/",
          "height": 424
        },
        "id": "c_sdjdb1mUHR",
        "outputId": "b47a15a1-021d-4f7b-9685-dd87ffeba022"
      },
      "execution_count": 4,
      "outputs": [
        {
          "output_type": "execute_result",
          "data": {
            "text/plain": [
              "             X1      X2        y\n",
              "0      0.000001  9.1792  8.55510\n",
              "1      0.000001  9.2003  8.67500\n",
              "2      0.000001  9.1968  8.71160\n",
              "3      0.000001  9.1028  8.71570\n",
              "4      0.000001  9.0601  8.67920\n",
              "...         ...     ...      ...\n",
              "21002  0.000002  2.9408 -0.98811\n",
              "21003  0.000002  3.2277 -1.03650\n",
              "21004  0.000002  2.8527 -1.05290\n",
              "21005  0.000002  3.3101 -0.71383\n",
              "21006  0.000002  3.2780 -0.67184\n",
              "\n",
              "[21007 rows x 3 columns]"
            ],
            "text/html": [
              "\n",
              "  <div id=\"df-a24cb20e-a442-444c-8293-e00906dec193\">\n",
              "    <div class=\"colab-df-container\">\n",
              "      <div>\n",
              "<style scoped>\n",
              "    .dataframe tbody tr th:only-of-type {\n",
              "        vertical-align: middle;\n",
              "    }\n",
              "\n",
              "    .dataframe tbody tr th {\n",
              "        vertical-align: top;\n",
              "    }\n",
              "\n",
              "    .dataframe thead th {\n",
              "        text-align: right;\n",
              "    }\n",
              "</style>\n",
              "<table border=\"1\" class=\"dataframe\">\n",
              "  <thead>\n",
              "    <tr style=\"text-align: right;\">\n",
              "      <th></th>\n",
              "      <th>X1</th>\n",
              "      <th>X2</th>\n",
              "      <th>y</th>\n",
              "    </tr>\n",
              "  </thead>\n",
              "  <tbody>\n",
              "    <tr>\n",
              "      <th>0</th>\n",
              "      <td>0.000001</td>\n",
              "      <td>9.1792</td>\n",
              "      <td>8.55510</td>\n",
              "    </tr>\n",
              "    <tr>\n",
              "      <th>1</th>\n",
              "      <td>0.000001</td>\n",
              "      <td>9.2003</td>\n",
              "      <td>8.67500</td>\n",
              "    </tr>\n",
              "    <tr>\n",
              "      <th>2</th>\n",
              "      <td>0.000001</td>\n",
              "      <td>9.1968</td>\n",
              "      <td>8.71160</td>\n",
              "    </tr>\n",
              "    <tr>\n",
              "      <th>3</th>\n",
              "      <td>0.000001</td>\n",
              "      <td>9.1028</td>\n",
              "      <td>8.71570</td>\n",
              "    </tr>\n",
              "    <tr>\n",
              "      <th>4</th>\n",
              "      <td>0.000001</td>\n",
              "      <td>9.0601</td>\n",
              "      <td>8.67920</td>\n",
              "    </tr>\n",
              "    <tr>\n",
              "      <th>...</th>\n",
              "      <td>...</td>\n",
              "      <td>...</td>\n",
              "      <td>...</td>\n",
              "    </tr>\n",
              "    <tr>\n",
              "      <th>21002</th>\n",
              "      <td>0.000002</td>\n",
              "      <td>2.9408</td>\n",
              "      <td>-0.98811</td>\n",
              "    </tr>\n",
              "    <tr>\n",
              "      <th>21003</th>\n",
              "      <td>0.000002</td>\n",
              "      <td>3.2277</td>\n",
              "      <td>-1.03650</td>\n",
              "    </tr>\n",
              "    <tr>\n",
              "      <th>21004</th>\n",
              "      <td>0.000002</td>\n",
              "      <td>2.8527</td>\n",
              "      <td>-1.05290</td>\n",
              "    </tr>\n",
              "    <tr>\n",
              "      <th>21005</th>\n",
              "      <td>0.000002</td>\n",
              "      <td>3.3101</td>\n",
              "      <td>-0.71383</td>\n",
              "    </tr>\n",
              "    <tr>\n",
              "      <th>21006</th>\n",
              "      <td>0.000002</td>\n",
              "      <td>3.2780</td>\n",
              "      <td>-0.67184</td>\n",
              "    </tr>\n",
              "  </tbody>\n",
              "</table>\n",
              "<p>21007 rows × 3 columns</p>\n",
              "</div>\n",
              "      <button class=\"colab-df-convert\" onclick=\"convertToInteractive('df-a24cb20e-a442-444c-8293-e00906dec193')\"\n",
              "              title=\"Convert this dataframe to an interactive table.\"\n",
              "              style=\"display:none;\">\n",
              "        \n",
              "  <svg xmlns=\"http://www.w3.org/2000/svg\" height=\"24px\"viewBox=\"0 0 24 24\"\n",
              "       width=\"24px\">\n",
              "    <path d=\"M0 0h24v24H0V0z\" fill=\"none\"/>\n",
              "    <path d=\"M18.56 5.44l.94 2.06.94-2.06 2.06-.94-2.06-.94-.94-2.06-.94 2.06-2.06.94zm-11 1L8.5 8.5l.94-2.06 2.06-.94-2.06-.94L8.5 2.5l-.94 2.06-2.06.94zm10 10l.94 2.06.94-2.06 2.06-.94-2.06-.94-.94-2.06-.94 2.06-2.06.94z\"/><path d=\"M17.41 7.96l-1.37-1.37c-.4-.4-.92-.59-1.43-.59-.52 0-1.04.2-1.43.59L10.3 9.45l-7.72 7.72c-.78.78-.78 2.05 0 2.83L4 21.41c.39.39.9.59 1.41.59.51 0 1.02-.2 1.41-.59l7.78-7.78 2.81-2.81c.8-.78.8-2.07 0-2.86zM5.41 20L4 18.59l7.72-7.72 1.47 1.35L5.41 20z\"/>\n",
              "  </svg>\n",
              "      </button>\n",
              "      \n",
              "  <style>\n",
              "    .colab-df-container {\n",
              "      display:flex;\n",
              "      flex-wrap:wrap;\n",
              "      gap: 12px;\n",
              "    }\n",
              "\n",
              "    .colab-df-convert {\n",
              "      background-color: #E8F0FE;\n",
              "      border: none;\n",
              "      border-radius: 50%;\n",
              "      cursor: pointer;\n",
              "      display: none;\n",
              "      fill: #1967D2;\n",
              "      height: 32px;\n",
              "      padding: 0 0 0 0;\n",
              "      width: 32px;\n",
              "    }\n",
              "\n",
              "    .colab-df-convert:hover {\n",
              "      background-color: #E2EBFA;\n",
              "      box-shadow: 0px 1px 2px rgba(60, 64, 67, 0.3), 0px 1px 3px 1px rgba(60, 64, 67, 0.15);\n",
              "      fill: #174EA6;\n",
              "    }\n",
              "\n",
              "    [theme=dark] .colab-df-convert {\n",
              "      background-color: #3B4455;\n",
              "      fill: #D2E3FC;\n",
              "    }\n",
              "\n",
              "    [theme=dark] .colab-df-convert:hover {\n",
              "      background-color: #434B5C;\n",
              "      box-shadow: 0px 1px 3px 1px rgba(0, 0, 0, 0.15);\n",
              "      filter: drop-shadow(0px 1px 2px rgba(0, 0, 0, 0.3));\n",
              "      fill: #FFFFFF;\n",
              "    }\n",
              "  </style>\n",
              "\n",
              "      <script>\n",
              "        const buttonEl =\n",
              "          document.querySelector('#df-a24cb20e-a442-444c-8293-e00906dec193 button.colab-df-convert');\n",
              "        buttonEl.style.display =\n",
              "          google.colab.kernel.accessAllowed ? 'block' : 'none';\n",
              "\n",
              "        async function convertToInteractive(key) {\n",
              "          const element = document.querySelector('#df-a24cb20e-a442-444c-8293-e00906dec193');\n",
              "          const dataTable =\n",
              "            await google.colab.kernel.invokeFunction('convertToInteractive',\n",
              "                                                     [key], {});\n",
              "          if (!dataTable) return;\n",
              "\n",
              "          const docLinkHtml = 'Like what you see? Visit the ' +\n",
              "            '<a target=\"_blank\" href=https://colab.research.google.com/notebooks/data_table.ipynb>data table notebook</a>'\n",
              "            + ' to learn more about interactive tables.';\n",
              "          element.innerHTML = '';\n",
              "          dataTable['output_type'] = 'display_data';\n",
              "          await google.colab.output.renderOutput(dataTable, element);\n",
              "          const docLink = document.createElement('div');\n",
              "          docLink.innerHTML = docLinkHtml;\n",
              "          element.appendChild(docLink);\n",
              "        }\n",
              "      </script>\n",
              "    </div>\n",
              "  </div>\n",
              "  "
            ]
          },
          "metadata": {},
          "execution_count": 4
        }
      ]
    },
    {
      "cell_type": "code",
      "source": [
        "def train_model(df):\n",
        "  X = df[df.columns[:2]]\n",
        "  y = df[df.columns[2]]\n",
        "\n",
        "  X_train, X_val, y_train, y_val = train_test_split(X, y, random_state=42, test_size=0.2)\n",
        "\n",
        "  X_train_sc = scaler.fit_transform(X_train)\n",
        "  X_val_sc = scaler.transform(X_val)\n",
        "  \n",
        "  model.fit(X_train_sc, y_train)\n",
        "\n",
        "  return X_val_sc, y_val"
      ],
      "metadata": {
        "id": "El_cR7y6wCYK"
      },
      "execution_count": 5,
      "outputs": []
    },
    {
      "cell_type": "code",
      "source": [
        "def make_prediction(X_val_sc, y_val):\n",
        "  y_pred = model.predict(X_val_sc)\n",
        "\n",
        "  print(\"METRICS FOR VALIDATION DATASET:\")\n",
        "  print(f\"MAE OF PREDICTION  : {round(mean_absolute_error(y_val, y_pred),4)}\")\n",
        "  print(f\"MAPE OF PREDICTION : {round(mean_absolute_percentage_error(y_val, y_pred),4)}\")\n",
        "  print(\"\\n\")"
      ],
      "metadata": {
        "id": "JcAgPcQ2sHHc"
      },
      "execution_count": 6,
      "outputs": []
    },
    {
      "cell_type": "code",
      "source": [
        "def get_sensor_data(filename):\n",
        "  records = []\n",
        "\n",
        "  with open(path+\"data/\"+filename+\".txt\") as file:\n",
        "    for data in file:\n",
        "      record = data.strip().split(',')\n",
        "      records.append(record)\n",
        "  \n",
        "  df = pd.DataFrame.from_records(records,columns=['X1', 'X2'])\n",
        "  df['X1'] = df['X1'].astype('float')\n",
        "  df['X2'] = df['X2'].astype('float')\n",
        "\n",
        "  return df"
      ],
      "metadata": {
        "id": "RJPcQT_w-qeq"
      },
      "execution_count": 12,
      "outputs": []
    },
    {
      "cell_type": "code",
      "source": [
        "def plot_izopropanol_test():\n",
        "\n",
        "  print(\"TESTING MODEL ON REMAINING SENSORS\\n\")\n",
        "  \n",
        "  sensor_nbrs = [str(sens).zfill(2) for sens in range(8,11)] # test for 3 remaining sensors\n",
        "  filenames_a = []\n",
        "  filenames_i = []\n",
        "  for sensor in sensor_nbrs:\n",
        "    filename_a = \"sensor\"+sensor+\"_air\"\n",
        "    filenames_a.append(filename_a)\n",
        "    filename_i = \"sensor\"+sensor+\"_izopropanol\"\n",
        "    filenames_i.append(filename_i)\n",
        "  \n",
        "  dframes_a = []\n",
        "  for filename in filenames_a:\n",
        "    df = get_sensor_data(filename)\n",
        "    dframes_a.append(df)\n",
        "\n",
        "  dframes_i = []\n",
        "  for filename in filenames_i:\n",
        "    df = get_sensor_data(filename)\n",
        "    dframes_i.append(df)\n",
        "\n",
        "  fig, axs = plt.subplots(1,3, figsize=(15,5))\n",
        "  for i, ax in enumerate(fig.axes):\n",
        "\n",
        "    A = dframes_a[i]\n",
        "    A_sc = scaler.transform(A)\n",
        "    y_pred = model.predict(A_sc) \n",
        "    mae = round(mean_absolute_error(dframes_i[i]['X2'], y_pred),4)\n",
        "    mape = round(mean_absolute_percentage_error(dframes_i[i]['X2'], y_pred),4)\n",
        "\n",
        "    ax.set_title(\"Izoprop., sensor\"+str(i+8).zfill(2)+\", MAE: \"+str(mae)+\", MAPE: \"+str(mape))\n",
        "    ax.plot(dframes_i[i]['X1'], dframes_i[i]['X2'], label = \"ground truth\", color = \"r\")\n",
        "    ax.plot(A['X1'], y_pred, label = \"prediction\", color = \"b\")\n",
        "\n",
        "    ax.legend(loc = \"upper center\")\n",
        "\n",
        "  fig.show()"
      ],
      "metadata": {
        "id": "33HK8ZMV_wk4"
      },
      "execution_count": 16,
      "outputs": []
    },
    {
      "cell_type": "code",
      "source": [
        "def test_model(df):\n",
        "  X_val_sc, y_val = train_model(df)\n",
        "  make_prediction(X_val_sc, y_val)\n",
        "  plot_izopropanol_test()"
      ],
      "metadata": {
        "id": "J4ZMB6tA_QDb"
      },
      "execution_count": 8,
      "outputs": []
    },
    {
      "cell_type": "markdown",
      "source": [
        "# MLPRegressor"
      ],
      "metadata": {
        "id": "5U5ebN5XFl_O"
      }
    },
    {
      "cell_type": "code",
      "source": [
        "scaler = MinMaxScaler()"
      ],
      "metadata": {
        "id": "JFLbeE4sIonC"
      },
      "execution_count": 9,
      "outputs": []
    },
    {
      "cell_type": "code",
      "source": [
        "model = MLPRegressor(\n",
        "  hidden_layer_sizes=(32, 16, 8, 4),\n",
        "  activation='tanh',\n",
        "  solver='adam',\n",
        "  random_state=42,\n",
        "  max_iter=300,\n",
        "  batch_size=60)"
      ],
      "metadata": {
        "id": "KMNgHiGqMRDg"
      },
      "execution_count": 10,
      "outputs": []
    },
    {
      "cell_type": "code",
      "source": [
        "test_model(df_izopropanol)"
      ],
      "metadata": {
        "colab": {
          "base_uri": "https://localhost:8080/",
          "height": 471
        },
        "id": "uUzByVDlMVz4",
        "outputId": "67f9eed4-ff4e-4373-93b5-effc9d3711e3"
      },
      "execution_count": 17,
      "outputs": [
        {
          "output_type": "stream",
          "name": "stdout",
          "text": [
            "METRICS FOR VALIDATION DATASET:\n",
            "MAE OF PREDICTION  : 0.2633\n",
            "MAPE OF PREDICTION : 0.0955\n",
            "\n",
            "\n",
            "TESTING MODEL ON REMAINING SENSORS\n",
            "\n"
          ]
        },
        {
          "output_type": "display_data",
          "data": {
            "text/plain": [
              "<Figure size 1080x360 with 3 Axes>"
            ],
            "image/png": "[encoded data removed]"
          },
          "metadata": {
            "needs_background": "light"
          }
        }
      ]
    },
    {
      "cell_type": "markdown",
      "source": [
        "# DecisionTreeRegressor"
      ],
      "metadata": {
        "id": "zdkJd_nFFpLO"
      }
    },
    {
      "cell_type": "code",
      "source": [
        "from sklearn.tree import DecisionTreeRegressor"
      ],
      "metadata": {
        "id": "lNIFJQanOYLc"
      },
      "execution_count": 18,
      "outputs": []
    },
    {
      "cell_type": "code",
      "source": [
        "model = DecisionTreeRegressor()"
      ],
      "metadata": {
        "id": "WPw9gX7jNXzI"
      },
      "execution_count": 19,
      "outputs": []
    },
    {
      "cell_type": "code",
      "source": [
        "test_model(df_izopropanol)"
      ],
      "metadata": {
        "colab": {
          "base_uri": "https://localhost:8080/",
          "height": 471
        },
        "id": "z5kbL9dzOe-m",
        "outputId": "a9ca7e8b-69fa-48a0-bcab-62fb9aef2051"
      },
      "execution_count": 20,
      "outputs": [
        {
          "output_type": "stream",
          "name": "stdout",
          "text": [
            "METRICS FOR VALIDATION DATASET:\n",
            "MAE OF PREDICTION  : 0.2258\n",
            "MAPE OF PREDICTION : 0.1184\n",
            "\n",
            "\n",
            "TESTING MODEL ON REMAINING SENSORS\n",
            "\n"
          ]
        },
        {
          "output_type": "display_data",
          "data": {
            "text/plain": [
              "<Figure size 1080x360 with 3 Axes>"
            ],
            "image/png": "[encoded data removed]"
          },
          "metadata": {
            "needs_background": "light"
          }
        }
      ]
    },
    {
      "cell_type": "markdown",
      "source": [
        "# Sequential"
      ],
      "metadata": {
        "id": "ps76EoGRFs62"
      }
    },
    {
      "cell_type": "code",
      "source": [
        "from keras import models\n",
        "from keras import layers\n",
        "from keras.layers import Dense"
      ],
      "metadata": {
        "id": "_SXzN9X4O2fe"
      },
      "execution_count": 21,
      "outputs": []
    },
    {
      "cell_type": "code",
      "source": [
        "def train_sequential_model(df):\n",
        "  X = df[df.columns[:2]]\n",
        "  y = df[df.columns[2]]\n",
        "\n",
        "  X_train, X_val, y_train, y_val = train_test_split(X, y, random_state=42, test_size=0.2)\n",
        "\n",
        "  X_train_sc = scaler.fit_transform(X_train)\n",
        "  X_val_sc = scaler.transform(X_val)\n",
        "  \n",
        "  model.fit(X_train_sc, y_train, epochs=20, batch_size=60, validation_data=(X_val_sc, y_val))\n",
        "\n",
        "  return X_val_sc, y_val"
      ],
      "metadata": {
        "id": "mdQ8WIwFR_Nk"
      },
      "execution_count": 22,
      "outputs": []
    },
    {
      "cell_type": "code",
      "source": [
        "def test_sequential_model(df):\n",
        "  X_val_sc, y_val = train_sequential_model(df)\n",
        "  make_prediction(X_val_sc, y_val)\n",
        "  plot_izopropanol_test()"
      ],
      "metadata": {
        "id": "0eYs4UWGTQ5c"
      },
      "execution_count": 23,
      "outputs": []
    },
    {
      "cell_type": "code",
      "source": [
        "model = models.Sequential()\n",
        "model.add(Dense(32, activation='tanh', input_shape=(2,)))\n",
        "model.add(Dense(16, activation='tanh'))\n",
        "model.add(Dense(8, activation='tanh'))\n",
        "model.add(Dense(4, activation='tanh'))\n",
        "model.add(Dense(1))\n",
        "\n",
        "model.compile(optimizer='adam', loss='mean_absolute_error', metrics='mae')"
      ],
      "metadata": {
        "id": "YcDSNwQQPGXG"
      },
      "execution_count": 24,
      "outputs": []
    },
    {
      "cell_type": "code",
      "source": [
        "test_sequential_model(df_izopropanol)"
      ],
      "metadata": {
        "colab": {
          "base_uri": "https://localhost:8080/",
          "height": 1000
        },
        "id": "TTRaEXqfTDpM",
        "outputId": "0da69ad2-89a2-4495-e4e0-590c4de34cfb"
      },
      "execution_count": 25,
      "outputs": [
        {
          "output_type": "stream",
          "name": "stdout",
          "text": [
            "Epoch 1/20\n",
            "281/281 [==============================] - 2s 3ms/step - loss: 3.7799 - mae: 3.7799 - val_loss: 2.9687 - val_mae: 2.9687\n",
            "Epoch 2/20\n",
            "281/281 [==============================] - 1s 2ms/step - loss: 2.7144 - mae: 2.7144 - val_loss: 2.3344 - val_mae: 2.3344\n",
            "Epoch 3/20\n",
            "281/281 [==============================] - 1s 3ms/step - loss: 2.2122 - mae: 2.2122 - val_loss: 1.9510 - val_mae: 1.9510\n",
            "Epoch 4/20\n",
            "281/281 [==============================] - 1s 3ms/step - loss: 1.9001 - mae: 1.9001 - val_loss: 1.7105 - val_mae: 1.7105\n",
            "Epoch 5/20\n",
            "281/281 [==============================] - 1s 2ms/step - loss: 1.6957 - mae: 1.6957 - val_loss: 1.5425 - val_mae: 1.5425\n",
            "Epoch 6/20\n",
            "281/281 [==============================] - 1s 3ms/step - loss: 1.5597 - mae: 1.5597 - val_loss: 1.4441 - val_mae: 1.4441\n",
            "Epoch 7/20\n",
            "281/281 [==============================] - 1s 2ms/step - loss: 1.4590 - mae: 1.4590 - val_loss: 1.3862 - val_mae: 1.3862\n",
            "Epoch 8/20\n",
            "281/281 [==============================] - 1s 2ms/step - loss: 1.3569 - mae: 1.3569 - val_loss: 1.2432 - val_mae: 1.2432\n",
            "Epoch 9/20\n",
            "281/281 [==============================] - 1s 2ms/step - loss: 1.2702 - mae: 1.2702 - val_loss: 1.2054 - val_mae: 1.2054\n",
            "Epoch 10/20\n",
            "281/281 [==============================] - 1s 3ms/step - loss: 1.2206 - mae: 1.2206 - val_loss: 1.2213 - val_mae: 1.2213\n",
            "Epoch 11/20\n",
            "281/281 [==============================] - 1s 4ms/step - loss: 1.1909 - mae: 1.1909 - val_loss: 1.1266 - val_mae: 1.1266\n",
            "Epoch 12/20\n",
            "281/281 [==============================] - 1s 4ms/step - loss: 1.1378 - mae: 1.1378 - val_loss: 1.1175 - val_mae: 1.1175\n",
            "Epoch 13/20\n",
            "281/281 [==============================] - 1s 4ms/step - loss: 1.0573 - mae: 1.0573 - val_loss: 0.9475 - val_mae: 0.9475\n",
            "Epoch 14/20\n",
            "281/281 [==============================] - 1s 3ms/step - loss: 0.8536 - mae: 0.8536 - val_loss: 0.7040 - val_mae: 0.7040\n",
            "Epoch 15/20\n",
            "281/281 [==============================] - 1s 2ms/step - loss: 0.6489 - mae: 0.6489 - val_loss: 0.5497 - val_mae: 0.5497\n",
            "Epoch 16/20\n",
            "281/281 [==============================] - 1s 2ms/step - loss: 0.5286 - mae: 0.5286 - val_loss: 0.4718 - val_mae: 0.4718\n",
            "Epoch 17/20\n",
            "281/281 [==============================] - 1s 3ms/step - loss: 0.4653 - mae: 0.4653 - val_loss: 0.4095 - val_mae: 0.4095\n",
            "Epoch 18/20\n",
            "281/281 [==============================] - 1s 2ms/step - loss: 0.4230 - mae: 0.4230 - val_loss: 0.4174 - val_mae: 0.4174\n",
            "Epoch 19/20\n",
            "281/281 [==============================] - 1s 2ms/step - loss: 0.3947 - mae: 0.3947 - val_loss: 0.3550 - val_mae: 0.3550\n",
            "Epoch 20/20\n",
            "281/281 [==============================] - 1s 3ms/step - loss: 0.3692 - mae: 0.3692 - val_loss: 0.3391 - val_mae: 0.3391\n",
            "132/132 [==============================] - 0s 1ms/step\n",
            "METRICS FOR VALIDATION DATASET:\n",
            "MAE OF PREDICTION  : 0.3391\n",
            "MAPE OF PREDICTION : 0.1216\n",
            "\n",
            "\n",
            "TESTING MODEL ON REMAINING SENSORS\n",
            "\n",
            "94/94 [==============================] - 0s 1ms/step\n",
            "94/94 [==============================] - 0s 1ms/step\n",
            "94/94 [==============================] - 0s 2ms/step\n"
          ]
        },
        {
          "output_type": "display_data",
          "data": {
            "text/plain": [
              "<Figure size 1080x360 with 3 Axes>"
            ],
            "image/png": "[encoded data removed]"
          },
          "metadata": {
            "needs_background": "light"
          }
        }
      ]
    },
    {
      "cell_type": "markdown",
      "source": [
        "# Conclusion"
      ],
      "metadata": {
        "id": "CtEa2Bb-F0cW"
      }
    },
    {
      "cell_type": "markdown",
      "source": [
        "**The best model:**\n",
        "\n",
        "**MLPRegressor, tanh, (32,16,8,4)**"
      ],
      "metadata": {
        "id": "FInU2P7IF2nl"
      }
    }
  ]
}